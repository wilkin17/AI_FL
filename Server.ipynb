import flwr as fl
import os

def start_server():
    # Prompt user for method    
    method_map = {"0": "FedAvg", "1": "FedDyn", "2": "IDA", "3": "Robust", "4": "HyFDCA"}
    method = input("Enter the federated learning method (0: FedAvg, 1: FedDyn, 2: IDA, 3: Robust, 4: HyFDCA): ").strip()
    while method not in method_map:
        print("Invalid selection. Choose 0 for FedAvg, 1 for FedDyn, 2 for IDA, 3 for Robust Aggregation, or 4 for Hybrid Federated Dual Coordinate Ascent (HyFDCA).")
        method = input("Enter the federated learning method (0: FedAvg, 1: FedDyn, 2: IDA, 3: Robust, 4: HyFDCA): ").strip()
    method = method_map[method]  # Convert choice to method name
    print(f"Using method: {method}")  # Confirm selection

    # Prompt user for number of rounds
    num_rounds = input("Enter the number of training rounds: ").strip()
    while not num_rounds.isdigit():
        print("Please enter a valid integer for the number of rounds.")
        num_rounds = input("Enter the number of training rounds: ").strip()
    num_rounds = int(num_rounds)

    # Prompt user for dataset selection
    default_dataset = "Noiseless"
    dataset_map = {"y": "Noisy", "n": "Noiseless"}
    dataset_input = input(f"Would you like to use a noisy dataset? (y/N): ").strip().lower()
    if dataset_input in dataset_map:
        dataset = dataset_map[dataset_input]
    else:
        dataset = default_dataset

    # Prompt seed selection for random dataset
    seed_value = input("Enter a seed value (or press Enter to use default): ").strip()
    if not seed_value.isdigit():
        seed_value = 1  # Default seed value
    else:
        seed_value = int(seed_value)
    

    # Save parameters to a file to pass to the client
    with open("config.txt", "w") as f:
        f.write(f"{method}\n{num_rounds}\n{dataset}\n{seed_value}")

    # Start the server
    strategy = fl.server.strategy.FedAvg()
    fl.server.start_server(
        server_address="0.0.0.0:8081",
        config=fl.server.ServerConfig(num_rounds=num_rounds),
        strategy=strategy
    )

if __name__ == "__main__":
    start_server()
