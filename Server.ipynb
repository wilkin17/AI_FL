{
 "cells": [
  {
   "cell_type": "code",
   "execution_count": null,
   "metadata": {
    "id": "I30ANbpA-x-a"
   },
   "outputs": [
    {
     "name": "stdout",
     "output_type": "stream",
     "text": [
      "Using method: Robust\n"
     ]
    },
    {
     "name": "stderr",
     "output_type": "stream",
     "text": [
      "\u001b[92mINFO \u001b[0m:      Starting Flower server, config: num_rounds=100, no round_timeout\n",
      "\u001b[92mINFO \u001b[0m:      Flower ECE: gRPC server running (100 rounds), SSL is disabled\n",
      "\u001b[92mINFO \u001b[0m:      [INIT]\n",
      "\u001b[92mINFO \u001b[0m:      Requesting initial parameters from one random client\n"
     ]
    }
   ],
   "source": [
    "import flwr as fl\n",
    "import os\n",
    "\n",
    "def start_server():\n",
    "    # Prompt user for method    \n",
    "    method_map = {\"0\": \"FedAvg\", \"1\": \"FedDyn\", \"2\": \"IDA\", \"3\": \"Robust\", \"4\": \"HyFDCA\"}\n",
    "    method = input(\"Enter the federated learning method (0: FedAvg, 1: FedDyn, 2: IDA, 3: Robust, 4: HyFDCA): \").strip()\n",
    "    while method not in method_map:\n",
    "        print(\"Invalid selection. Choose 0 for FedAvg, 1 for FedDyn, 2 for IDA, 3 for Robust Aggregation, or 4 for Hybrid Federated Dual Coordinate Ascent (HyFDCA).\")\n",
    "        method = input(\"Enter the federated learning method (0: FedAvg, 1: FedDyn, 2: IDA, 3: Robust, 4: HyFDCA): \").strip()\n",
    "    method = method_map[method]  # Convert choice to method name\n",
    "    print(f\"Using method: {method}\")  # Confirm selection\n",
    "\n",
    "    # Prompt user for number of rounds\n",
    "    num_rounds = input(\"Enter the number of training rounds: \").strip()\n",
    "    while not num_rounds.isdigit():\n",
    "        print(\"Please enter a valid integer for the number of rounds.\")\n",
    "        num_rounds = input(\"Enter the number of training rounds: \").strip()\n",
    "    num_rounds = int(num_rounds)\n",
    "\n",
    "    # Prompt user for dataset selection\n",
    "    default_dataset = \"Noiseless\"\n",
    "    dataset_map = {\"y\": \"Noisy\", \"n\": \"Noiseless\"}\n",
    "    dataset_input = input(f\"Would you like to use a noisy dataset? (y/N): \").strip().lower()\n",
    "    if dataset_input in dataset_map:\n",
    "        dataset = dataset_map[dataset_input]\n",
    "    else:\n",
    "        dataset = default_dataset\n",
    "\n",
    "    # Prompt seed selection for random dataset\n",
    "    seed_value = input(\"Enter a seed value (or press Enter to use default): \").strip()\n",
    "    if not seed_value.isdigit():\n",
    "        seed_value = 1  # Default seed value\n",
    "    else:\n",
    "        seed_value = int(seed_value)\n",
    "    \n",
    "\n",
    "    # Save parameters to a file to pass to the client\n",
    "    with open(\"config.txt\", \"w\") as f:\n",
    "        f.write(f\"{method}\\n{num_rounds}\\n{dataset}\\n{seed_value}\")\n",
    "\n",
    "    # Start the server\n",
    "    strategy = fl.server.strategy.FedAvg()\n",
    "    fl.server.start_server(\n",
    "        server_address=\"0.0.0.0:8081\",\n",
    "        config=fl.server.ServerConfig(num_rounds=num_rounds),\n",
    "        strategy=strategy\n",
    "    )\n",
    "\n",
    "if __name__ == \"__main__\":\n",
    "    start_server()"
   ]
  }
 ],
 "metadata": {
  "colab": {
   "provenance": [
    {
     "file_id": "1_m_Jrn_WRBUBPGdooHsjHlG4hLQ_BF8m",
     "timestamp": 1731434427673
    }
   ]
  },
  "kernelspec": {
   "display_name": "TestCuda",
   "language": "python",
   "name": "python3"
  },
  "language_info": {
   "codemirror_mode": {
    "name": "ipython",
    "version": 3
   },
   "file_extension": ".py",
   "mimetype": "text/x-python",
   "name": "python",
   "nbconvert_exporter": "python",
   "pygments_lexer": "ipython3",
   "version": "3.11.4"
  }
 },
 "nbformat": 4,
 "nbformat_minor": 0
}
